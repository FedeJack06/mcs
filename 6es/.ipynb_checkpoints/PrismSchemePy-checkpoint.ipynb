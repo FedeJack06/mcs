{
 "cells": [
  {
   "cell_type": "markdown",
   "id": "a88a2a08",
   "metadata": {},
   "source": [
    "# Schema spettrometro (notebook Python)"
   ]
  },
  {
   "cell_type": "markdown",
   "id": "c992e8b2",
   "metadata": {},
   "source": [
    "Sistema da risolvere:\n",
    "\n",
    "$\\left\\{ \\begin{align*}   &n_1 \\sin\\left( {\\alpha \\over 2} \\right)\n",
    "  = \\sin\\left( {{\\theta_1-\\theta_0+\\alpha} \\over 2} \\right)\\\\\n",
    "   &n_2 \\sin\\left( {\\alpha \\over 2} \\right)\n",
    "  = \\sin\\left( {{\\theta_2-\\theta_0+\\alpha} \\over 2} \\right)\\\\\n",
    "  &n_1 = A + {B\\over \\lambda^2_1}\\\\\n",
    "  &n_2 = A + {B\\over \\lambda^2_2}\\\\\n",
    "  \\end{align*}\n",
    " \\right.$"
   ]
  },
  {
   "cell_type": "markdown",
   "id": "657dfdff",
   "metadata": {},
   "source": [
    "Import dei moduli rilevanti"
   ]
  },
  {
   "cell_type": "code",
   "execution_count": 10,
   "id": "4166ce28",
   "metadata": {},
   "outputs": [],
   "source": [
    "import math\n",
    "import ROOT\n",
    "import time"
   ]
  },
  {
   "cell_type": "markdown",
   "id": "a88000cc",
   "metadata": {},
   "source": [
    "Parametri dello spettrometro"
   ]
  },
  {
   "cell_type": "code",
   "execution_count": 11,
   "id": "86892c7d",
   "metadata": {},
   "outputs": [],
   "source": [
    "alpha   = math.pi/3\n",
    "lambda1 = 579.1e-9\n",
    "lambda2 = 404.7e-9\n",
    "th0     = 1.5701\n",
    "th1     = 2.6958\n",
    "th2     = 2.7904\n",
    "eth     = 0.0005"
   ]
  },
  {
   "cell_type": "markdown",
   "id": "292e2a50",
   "metadata": {},
   "source": [
    "Funzione che, dati gli angoli $\\theta_0$, $\\theta_1$ e $\\theta_2$, calcola A e B"
   ]
  },
  {
   "cell_type": "code",
   "execution_count": 16,
   "id": "43356e41",
   "metadata": {},
   "outputs": [],
   "source": [
    "def computeAB(th_0,th_1,th_2):\n",
    "    def n_i(th_i, th_0):\n",
    "        return math.sin((th_i - th_0 + alpha)/2)/math.sin(alpha/2)\n",
    "    A = (n_i(th_1, th_0)*lambda1**2 - n_i(th_2, th_0)*lambda2**2)/(lambda1**2 - lambda2**2)\n",
    "    B = (n_i(th_1, th_0) - n_i(th_2, th_0))/(1/(lambda1**2) - 1/(lambda2**2))\n",
    "    return A, B"
   ]
  },
  {
   "cell_type": "code",
   "execution_count": 21,
   "id": "ef23cd17",
   "metadata": {},
   "outputs": [
    {
     "data": {
      "text/plain": [
       "1.3462137256845494e-14"
      ]
     },
     "execution_count": 21,
     "metadata": {},
     "output_type": "execute_result"
    }
   ],
   "source": [
    "computeAB(th0, th1, th2)[1]"
   ]
  },
  {
   "cell_type": "markdown",
   "id": "d64eaf16",
   "metadata": {},
   "source": [
    "Programma principale"
   ]
  },
  {
   "cell_type": "code",
   "execution_count": 19,
   "id": "5f238ee9",
   "metadata": {},
   "outputs": [],
   "source": [
    "rnd=ROOT.TRandom3()\n",
    "rnd.SetSeed(int(time.time()))\n",
    "\n",
    "eth_stat = eth/math.sqrt(3)\n",
    "sigma = []\n",
    "for i in range(2):\n",
    "    f = computeAB(th0 , th1, th2)[i]\n",
    "    sigma1 = computeAB(th0 + eth_stat, th1, th2)[i] - f\n",
    "    sigma2 = computeAB(th0, th1 + eth_stat, th2)[i] - f\n",
    "    sigma3 = computeAB(th0, th1, th2 + eth_stat)[i] - f\n",
    "    sigma[i] = math.sqrt(sigma1**2 sigma2**2 + sigma3**2)\n",
    "\n",
    "print(sigma[1])\n",
    "\n",
    "# Assumendo errore gaussiano (eth/sqrt(3)) \n",
    "# a) calcolo dell'errore su A e su B tramite variazione delle funzione\n",
    "# b) calcolo delle distribuzioni di A e B\n",
    "#    dell'errore su A, B e della loro correlazione\n",
    "\n",
    "# Ripetere punto b) nel caso in cui invece si assuma distribuzione uniforme con larghezza +/-eth\n"
   ]
  },
  {
   "cell_type": "code",
   "execution_count": null,
   "id": "c3a9434e",
   "metadata": {},
   "outputs": [],
   "source": [
    "A = computeAB(th0, th1, th2)[0]\n",
    "sigma1 = computeAB(th0 + eth_stat, th1, th2)[0] - A\n",
    "sigma2 = computeAB(th0, th1 + eth_stat, th2)[0] - A\n",
    "sigma3 = computeAB(th0, th1, th2 + eth_stat)[0] - A\n",
    "sigmaA = math.sqrt(sigma1**2 sigma2**2 + sigma3**2)"
   ]
  },
  {
   "cell_type": "code",
   "execution_count": null,
   "id": "21ddf87e",
   "metadata": {},
   "outputs": [],
   "source": [
    "B = computeAB(th0, th1, th2)[1]\n",
    "sigma1 = computeAB(th0 + eth_stat, th1, th2)[1] - B\n",
    "sigma2 = computeAB(th0, th1 + eth_stat, th2)[1] - B\n",
    "sigma3 = computeAB(th0, th1, th2 + eth_stat)[1] - B\n",
    "sigmaB = math.sqrt(sigma1**2 sigma2**2 + sigma3**2)"
   ]
  }
 ],
 "metadata": {
  "kernelspec": {
   "display_name": "Python 3 (ipykernel)",
   "language": "python",
   "name": "python3"
  },
  "language_info": {
   "codemirror_mode": {
    "name": "ipython",
    "version": 3
   },
   "file_extension": ".py",
   "mimetype": "text/x-python",
   "name": "python",
   "nbconvert_exporter": "python",
   "pygments_lexer": "ipython3",
   "version": "3.10.12"
  }
 },
 "nbformat": 4,
 "nbformat_minor": 5
}
